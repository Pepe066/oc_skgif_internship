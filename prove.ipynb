{
 "cells": [
  {
   "cell_type": "code",
   "execution_count": 14,
   "metadata": {},
   "outputs": [
    {
     "ename": "ImportError",
     "evalue": "cannot import name 'IndexClassConverter' from 'index.index_class_coverter' (c:\\Users\\pietr\\Desktop\\github\\oc_skgif_internship\\index\\index_class_coverter.py)",
     "output_type": "error",
     "traceback": [
      "\u001b[1;31m---------------------------------------------------------------------------\u001b[0m",
      "\u001b[1;31mImportError\u001b[0m                               Traceback (most recent call last)",
      "Cell \u001b[1;32mIn[14], line 5\u001b[0m\n\u001b[0;32m      3\u001b[0m \u001b[38;5;28;01mfrom\u001b[39;00m \u001b[38;5;21;01mjson\u001b[39;00m \u001b[38;5;28;01mimport\u001b[39;00m load, dump\n\u001b[0;32m      4\u001b[0m \u001b[38;5;28;01mfrom\u001b[39;00m \u001b[38;5;21;01mmeta\u001b[39;00m\u001b[38;5;21;01m.\u001b[39;00m\u001b[38;5;21;01mmeta_class_converter\u001b[39;00m \u001b[38;5;28;01mimport\u001b[39;00m MetaClassConverter\n\u001b[1;32m----> 5\u001b[0m \u001b[38;5;28;01mfrom\u001b[39;00m \u001b[38;5;21;01mindex\u001b[39;00m\u001b[38;5;21;01m.\u001b[39;00m\u001b[38;5;21;01mindex_class_coverter\u001b[39;00m \u001b[38;5;28;01mimport\u001b[39;00m IndexClassConverter\n",
      "\u001b[1;31mImportError\u001b[0m: cannot import name 'IndexClassConverter' from 'index.index_class_coverter' (c:\\Users\\pietr\\Desktop\\github\\oc_skgif_internship\\index\\index_class_coverter.py)"
     ]
    }
   ],
   "source": [
    "import requests as requests\n",
    "import argparse\n",
    "from json import load, dump\n",
    "from meta.meta_class_converter import MetaClassConverter\n",
    "from index.index_class_coverter import IndexClassConverter"
   ]
  },
  {
   "cell_type": "code",
   "execution_count": null,
   "metadata": {},
   "outputs": [
    {
     "name": "stdout",
     "output_type": "stream",
     "text": [
      "[{'author_sc': 'yes', 'cited': '10.7717/peerj-cs.421', 'oci': '060264249-06101801781', 'timespan': 'P0Y', 'journal_sc': 'no', 'citing': '10.48366/r109904', 'creation': '2021'}, {'author_sc': 'no', 'cited': '10.7717/peerj-cs.421', 'oci': '06103952512-06101801781', 'timespan': 'P0Y4M25D', 'journal_sc': 'no', 'citing': '10.1177/09610006211036734', 'creation': '2021-08-04'}, {'author_sc': 'no', 'cited': '10.7717/peerj-cs.421', 'oci': '06404435594-06101801781', 'timespan': 'P1Y', 'journal_sc': 'no', 'citing': '10.1063/5.0110347', 'creation': '2023'}]\n",
      "Error 404 at URL:  https://w3id.org/oc/meta/api/v1/metadata/10.7717/peerj-cs.421\n",
      "Response: No API operation found at URL '/api/v1/metadata/10.7717/peerj-cs.421'\n",
      "None\n"
     ]
    }
   ],
   "source": [
    "import requests\n",
    "\n",
    "meta_base_url = \" https://w3id.org/oc/meta/api/v1\"\n",
    "index_base_url = \"https://opencitations.net/index/api/v1\"\n",
    "\n",
    "\n",
    "def get_citations(doi):\n",
    "    doi_encoded = requests.utils.quote(doi)  \n",
    "    api_url = f\"{index_base_url}/citations/{doi_encoded}\"\n",
    "    \n",
    "    response = requests.get(api_url)  \n",
    "\n",
    "    if response.status_code == 200:\n",
    "        return response.json()\n",
    "    else:\n",
    "        print(f\"Error {response.status_code}: {response.text}\")\n",
    "        return None\n",
    "\n",
    "\n",
    "\n",
    "def get_metadata(doi):\n",
    "    doi_encoded = requests.utils.quote(doi) \n",
    "    api_url = f\"{meta_base_url}/metadata/{doi_encoded}\"\n",
    "    \n",
    "    response = requests.get(api_url)  \n",
    "\n",
    "    if response.status_code == 200:\n",
    "        return response.json()\n",
    "    else:\n",
    "        print(f\"Error {response.status_code} at URL: {api_url}\")\n",
    "        print(f\"Response: {response.text}\")\n",
    "        return None\n",
    "\n",
    "\n",
    "print(get_citations(\"10.7717/peerj-cs.421\"))\n",
    "\n",
    "print(get_metadata(\"doi:10.7717/peerj-cs.421\"))\n"
   ]
  }
 ],
 "metadata": {
  "kernelspec": {
   "display_name": "base",
   "language": "python",
   "name": "python3"
  },
  "language_info": {
   "codemirror_mode": {
    "name": "ipython",
    "version": 3
   },
   "file_extension": ".py",
   "mimetype": "text/x-python",
   "name": "python",
   "nbconvert_exporter": "python",
   "pygments_lexer": "ipython3",
   "version": "3.12.4"
  }
 },
 "nbformat": 4,
 "nbformat_minor": 2
}
